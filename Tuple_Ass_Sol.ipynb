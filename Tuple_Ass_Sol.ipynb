{
 "cells": [
  {
   "cell_type": "code",
   "execution_count": null,
   "id": "16d27677-d570-410a-b6fd-a67b2f65141e",
   "metadata": {},
   "outputs": [],
   "source": [
    "#Q1. What is a tuple in Python?\n",
    "#Ans-\n",
    "'''In Python, a tuple is an ordered collection of elements enclosed in parentheses () or simply separated by commas. \n",
    "It is a built-in data type that is similar to a list but has some key differences. Here are the main characteristics of tuples:\n",
    "\n",
    "1. Immutable: Tuples are immutable, meaning their elements cannot be modified or reassigned once the tuple is created. However, if an element is mutable (like a list), it can be modified.\n",
    "\n",
    "2. Ordered: Tuples preserve the order of elements, so the position of each element in the tuple is fixed.\n",
    "\n",
    "3. Heterogeneous: Tuples can contain elements of different data types, such as numbers, strings, booleans, or even other tuples.\n",
    "\n",
    "4. Indexing and slicing: Elements in a tuple can be accessed using indexing and slicing operations, similar to lists.\n",
    "\n",
    "5. Size: Tuples can have a variable number of elements, and the size of a tuple is determined by the number of elements it contains.\n",
    "\n",
    "Tuples are commonly used to represent a collection of related values that should not be modified. \n",
    "For example, coordinates (x, y), RGB color codes (red, green, blue), or personal information (name, age, address) can be represented using tuples.'''"
   ]
  },
  {
   "cell_type": "code",
   "execution_count": 1,
   "id": "13b657ab-338d-4d74-9adc-b311a78a2614",
   "metadata": {},
   "outputs": [
    {
     "data": {
      "text/plain": [
       "(1, 2, 'three', True)"
      ]
     },
     "execution_count": 1,
     "metadata": {},
     "output_type": "execute_result"
    }
   ],
   "source": [
    "#Q2. How do you create a tuple in Python?\n",
    "#Ans\n",
    "'''Here's an example of creating a tuple in Python:'''\n",
    "\n",
    "my_tuple = (1, 2, \"three\", True)\n",
    "my_tuple"
   ]
  },
  {
   "cell_type": "code",
   "execution_count": null,
   "id": "ba9f3d11-7ee5-4980-93db-3f945dee7e37",
   "metadata": {},
   "outputs": [],
   "source": [
    "#Q3. What is the difference between a tuple and a list in Python?\n",
    "#Ans-\n",
    "\n",
    "'''In Python, tuples and lists are both used to store collections of elements, but they have some key differences. Here are the main differences between tuples and lists:\n",
    "\n",
    "1. Mutability: Tuples are immutable, meaning their elements cannot be modified or reassigned once the tuple is created. \n",
    "In contrast, lists are mutable, and you can add, remove, or modify elements in a list after it is created.\n",
    "\n",
    "2. Syntax: Tuples are defined by enclosing the elements in parentheses () or simply separating them by commas. \n",
    "Lists are defined by enclosing the elements in square brackets [] or separating them by commas.\n",
    "\n",
    "3. Purpose: Tuples are generally used to store a collection of related values that should not be modified, such as coordinates, RGB color codes, or database records. \n",
    "Lists, on the other hand, are used to store collections of elements that can be modified or where the order matters.\n",
    "\n",
    "4. Performance: Tuples are slightly more memory-efficient and faster to access compared to lists. \n",
    "Since tuples are immutable, Python can optimize their storage and perform some operations more efficiently. \n",
    "Lists, being mutable, require more memory allocation and have additional overhead when modifying elements.\n",
    "\n",
    "5. Available Operations: Lists provide more built-in operations and methods for modification, such as appending, extending, inserting, or removing elements. \n",
    "Tuples, being immutable, have fewer built-in methods and operations available.'''"
   ]
  },
  {
   "cell_type": "code",
   "execution_count": null,
   "id": "4e9983cc-910c-4b8b-9340-44c4b198dd7e",
   "metadata": {},
   "outputs": [],
   "source": [
    "#Q4. Can a tuple be changed in Python?\n",
    "#Ans-\n",
    "'''No, a tuple cannot be changed in Python. Tuples are immutable, which means their elements cannot be modified or reassigned once the tuple is created.\n",
    "Once a tuple is defined, its elements and their order remain fixed.'''\n",
    "\n",
    "my_tuple = (1, 2, 3)\n",
    "\n",
    "# Attempting to modify an element (will raise an error)\n",
    "my_tuple[0] = 10\n",
    "\n",
    "# Attempting to append an element (will raise an error)\n",
    "my_tuple.append(4)\n",
    "\n",
    "# Attempting to extend the tuple (will raise an error)\n",
    "my_tuple.extend([4, 5, 6])\n",
    "\n",
    "# Attempting to remove an element (will raise an error)\n",
    "del my_tuple[0]\n"
   ]
  },
  {
   "cell_type": "code",
   "execution_count": 9,
   "id": "fb4bfefc-e340-42f5-a462-e5ca2cb7ab28",
   "metadata": {},
   "outputs": [
    {
     "data": {
      "text/plain": [
       "('three', (2, 'three'))"
      ]
     },
     "execution_count": 9,
     "metadata": {},
     "output_type": "execute_result"
    }
   ],
   "source": [
    "#Q5. How do you access elements in a tuple?\n",
    "#Ans-\n",
    "'''In Python, you can access elements in a tuple using indexing or slicing. \n",
    "Since tuples are ordered collections, each element has a specific position or index within the tuple. \n",
    "Here's how you can access elements in a tuple:'''\n",
    "\n",
    "my_tuple[2], my_tuple[1:3]"
   ]
  },
  {
   "cell_type": "code",
   "execution_count": 11,
   "id": "74d80846-005c-4cf1-8d95-c3425cc1f43b",
   "metadata": {},
   "outputs": [
    {
     "name": "stdout",
     "output_type": "stream",
     "text": [
      "John\n",
      "Doe\n",
      "30\n"
     ]
    }
   ],
   "source": [
    "#Q6. How do you unpack a tuple in Python?\n",
    "#Ans-\n",
    "'''In Python, you can unpack a tuple by assigning its individual elements to separate variables. \n",
    "This is known as tuple unpacking or multiple assignment. Tuple unpacking allows you to conveniently assign values from a tuple to multiple variables in a single line. \n",
    "Here's how you can unpack a tuple:'''\n",
    "\n",
    "my_tuple = ('John', 'Doe', 30)\n",
    "first_name, last_name, age = my_tuple\n",
    "\n",
    "print(first_name)  # Output: 'John'\n",
    "print(last_name)   # Output: 'Doe'\n",
    "print(age)         # Output: 30               #In this example, the tuple my_tuple contains three elements: the first name, last name, and age of a person. By assigning the tuple elements to the variables first_name, last_name, and age, we can unpack the tuple in a single line.\n"
   ]
  },
  {
   "cell_type": "code",
   "execution_count": null,
   "id": "bbc5265a-c59b-47de-9901-5537dca2ea86",
   "metadata": {},
   "outputs": [],
   "source": []
  }
 ],
 "metadata": {
  "kernelspec": {
   "display_name": "Python 3 (ipykernel)",
   "language": "python",
   "name": "python3"
  },
  "language_info": {
   "codemirror_mode": {
    "name": "ipython",
    "version": 3
   },
   "file_extension": ".py",
   "mimetype": "text/x-python",
   "name": "python",
   "nbconvert_exporter": "python",
   "pygments_lexer": "ipython3",
   "version": "3.10.8"
  }
 },
 "nbformat": 4,
 "nbformat_minor": 5
}
